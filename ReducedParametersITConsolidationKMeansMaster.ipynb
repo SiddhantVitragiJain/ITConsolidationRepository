{
  "nbformat": 4,
  "nbformat_minor": 0,
  "metadata": {
    "colab": {
      "name": "ReducedParametersITConsolidationKMeansMaster.ipynb",
      "provenance": []
    },
    "kernelspec": {
      "name": "python3",
      "display_name": "Python 3"
    },
    "language_info": {
      "name": "python"
    }
  },
  "cells": [
    {
      "cell_type": "code",
      "metadata": {
        "id": "5v7yX2LIfZFw"
      },
      "source": [
        "import pandas as pd\n",
        "import numpy as np\n",
        "import seaborn as sns\n",
        "from matplotlib import pyplot as plt"
      ],
      "execution_count": null,
      "outputs": []
    },
    {
      "cell_type": "code",
      "metadata": {
        "id": "32PCUj9pfQju"
      },
      "source": [
        "url= \"https://raw.githubusercontent.com/SiddhantVitragiJain/ITConsolidationRepository/main/Consolidation%20Parameters%20-%20GITHUB%20CSV%20Encoding%20Reduced%20Tech%20Parameter.csv\"\n",
        "df = pd.read_csv(url)"
      ],
      "execution_count": null,
      "outputs": []
    },
    {
      "cell_type": "code",
      "metadata": {
        "colab": {
          "base_uri": "https://localhost:8080/",
          "height": 376
        },
        "id": "UY-FKgBefX1U",
        "outputId": "5656093e-da29-4227-92e0-3196c3129f3c"
      },
      "source": [
        "df.head()"
      ],
      "execution_count": null,
      "outputs": [
        {
          "output_type": "execute_result",
          "data": {
            "text/html": [
              "<div>\n",
              "<style scoped>\n",
              "    .dataframe tbody tr th:only-of-type {\n",
              "        vertical-align: middle;\n",
              "    }\n",
              "\n",
              "    .dataframe tbody tr th {\n",
              "        vertical-align: top;\n",
              "    }\n",
              "\n",
              "    .dataframe thead th {\n",
              "        text-align: right;\n",
              "    }\n",
              "</style>\n",
              "<table border=\"1\" class=\"dataframe\">\n",
              "  <thead>\n",
              "    <tr style=\"text-align: right;\">\n",
              "      <th></th>\n",
              "      <th>CompaniesName</th>\n",
              "      <th>Domain</th>\n",
              "      <th>Year</th>\n",
              "      <th>DataIntegrity</th>\n",
              "      <th>DataDisparity</th>\n",
              "      <th>ImprovedStandardisation</th>\n",
              "      <th>ImprovingUtilisationAndITInfrastructure</th>\n",
              "      <th>ImprovedSecurity</th>\n",
              "      <th>ImprovedBusinessIntelligence</th>\n",
              "      <th>ImprovedFlexibility</th>\n",
              "      <th>TechnologyAdvancement</th>\n",
              "      <th>ProvidingDevelopmentAndTestingEnvironment</th>\n",
              "      <th>HeavyProcessingWorkloadsAndPerformance</th>\n",
              "      <th>ITConsolidation</th>\n",
              "      <th>RegularSoftwareUpdatesAndHardwareManitianence</th>\n",
              "      <th>ITRealtedCostBenefit</th>\n",
              "      <th>RemovingOldLegacySytems</th>\n",
              "      <th>ImprovedDataRecoveryAndBackup</th>\n",
              "    </tr>\n",
              "  </thead>\n",
              "  <tbody>\n",
              "    <tr>\n",
              "      <th>0</th>\n",
              "      <td>Bharti Infratel  and Indus Towers</td>\n",
              "      <td>Telecomm Industry</td>\n",
              "      <td>2020</td>\n",
              "      <td>0</td>\n",
              "      <td>0</td>\n",
              "      <td>1</td>\n",
              "      <td>1</td>\n",
              "      <td>0</td>\n",
              "      <td>1</td>\n",
              "      <td>0</td>\n",
              "      <td>1</td>\n",
              "      <td>0</td>\n",
              "      <td>1</td>\n",
              "      <td>0</td>\n",
              "      <td>0</td>\n",
              "      <td>1</td>\n",
              "      <td>0</td>\n",
              "      <td>0</td>\n",
              "    </tr>\n",
              "    <tr>\n",
              "      <th>1</th>\n",
              "      <td>National Institute of Miners’ Health (NIMH) an...</td>\n",
              "      <td>Government</td>\n",
              "      <td>2019</td>\n",
              "      <td>1</td>\n",
              "      <td>1</td>\n",
              "      <td>0</td>\n",
              "      <td>0</td>\n",
              "      <td>0</td>\n",
              "      <td>1</td>\n",
              "      <td>0</td>\n",
              "      <td>1</td>\n",
              "      <td>0</td>\n",
              "      <td>0</td>\n",
              "      <td>1</td>\n",
              "      <td>0</td>\n",
              "      <td>0</td>\n",
              "      <td>0</td>\n",
              "      <td>0</td>\n",
              "    </tr>\n",
              "    <tr>\n",
              "      <th>2</th>\n",
              "      <td>Bank of Baroda Dena Bank and Vijaya Bank</td>\n",
              "      <td>BFSI</td>\n",
              "      <td>2019</td>\n",
              "      <td>0</td>\n",
              "      <td>0</td>\n",
              "      <td>1</td>\n",
              "      <td>1</td>\n",
              "      <td>0</td>\n",
              "      <td>1</td>\n",
              "      <td>0</td>\n",
              "      <td>0</td>\n",
              "      <td>0</td>\n",
              "      <td>1</td>\n",
              "      <td>0</td>\n",
              "      <td>0</td>\n",
              "      <td>1</td>\n",
              "      <td>1</td>\n",
              "      <td>0</td>\n",
              "    </tr>\n",
              "    <tr>\n",
              "      <th>3</th>\n",
              "      <td>Vodafone and Idea</td>\n",
              "      <td>Telecomm Industry</td>\n",
              "      <td>2018</td>\n",
              "      <td>1</td>\n",
              "      <td>0</td>\n",
              "      <td>1</td>\n",
              "      <td>1</td>\n",
              "      <td>0</td>\n",
              "      <td>1</td>\n",
              "      <td>0</td>\n",
              "      <td>0</td>\n",
              "      <td>0</td>\n",
              "      <td>0</td>\n",
              "      <td>1</td>\n",
              "      <td>0</td>\n",
              "      <td>1</td>\n",
              "      <td>0</td>\n",
              "      <td>0</td>\n",
              "    </tr>\n",
              "    <tr>\n",
              "      <th>4</th>\n",
              "      <td>Tata Steel VS Thyssenkrupp</td>\n",
              "      <td>Steel Industry</td>\n",
              "      <td>2018</td>\n",
              "      <td>0</td>\n",
              "      <td>0</td>\n",
              "      <td>0</td>\n",
              "      <td>0</td>\n",
              "      <td>0</td>\n",
              "      <td>0</td>\n",
              "      <td>0</td>\n",
              "      <td>0</td>\n",
              "      <td>0</td>\n",
              "      <td>0</td>\n",
              "      <td>0</td>\n",
              "      <td>0</td>\n",
              "      <td>0</td>\n",
              "      <td>0</td>\n",
              "      <td>0</td>\n",
              "    </tr>\n",
              "  </tbody>\n",
              "</table>\n",
              "</div>"
            ],
            "text/plain": [
              "                                       CompaniesName  ... ImprovedDataRecoveryAndBackup\n",
              "0                 Bharti Infratel  and Indus Towers   ...                             0\n",
              "1  National Institute of Miners’ Health (NIMH) an...  ...                             0\n",
              "2           Bank of Baroda Dena Bank and Vijaya Bank  ...                             0\n",
              "3                                  Vodafone and Idea  ...                             0\n",
              "4                         Tata Steel VS Thyssenkrupp  ...                             0\n",
              "\n",
              "[5 rows x 18 columns]"
            ]
          },
          "metadata": {
            "tags": []
          },
          "execution_count": 4
        }
      ]
    },
    {
      "cell_type": "code",
      "metadata": {
        "colab": {
          "base_uri": "https://localhost:8080/"
        },
        "id": "3XA8AFemf-DE",
        "outputId": "31bb5ff2-f768-42db-bcac-0d50a7b96509"
      },
      "source": [
        "df.info"
      ],
      "execution_count": null,
      "outputs": [
        {
          "output_type": "execute_result",
          "data": {
            "text/plain": [
              "<bound method DataFrame.info of                                         CompaniesName  ... ImprovedDataRecoveryAndBackup\n",
              "0                  Bharti Infratel  and Indus Towers   ...                             0\n",
              "1   National Institute of Miners’ Health (NIMH) an...  ...                             0\n",
              "2            Bank of Baroda Dena Bank and Vijaya Bank  ...                             0\n",
              "3                                   Vodafone and Idea  ...                             0\n",
              "4                          Tata Steel VS Thyssenkrupp  ...                             0\n",
              "..                                                ...  ...                           ...\n",
              "71  State of Ohio Computer Center & IBM Global Ser...  ...                             0\n",
              "72                     Ferrovial, S.A.  Telefonica SA  ...                             0\n",
              "73                            EDF Energy PLC and Atos  ...                             0\n",
              "74                 Balfour Beatty and Fujitsu limited  ...                             0\n",
              "75    Docu Group and  InfraServ GmbH & Co. Gendorf KG  ...                             0\n",
              "\n",
              "[76 rows x 18 columns]>"
            ]
          },
          "metadata": {
            "tags": []
          },
          "execution_count": 5
        }
      ]
    },
    {
      "cell_type": "code",
      "metadata": {
        "colab": {
          "base_uri": "https://localhost:8080/",
          "height": 316
        },
        "id": "JXGwoS1Dozo1",
        "outputId": "34fa86c3-5ae9-4cfa-f35d-da16ca32fe83"
      },
      "source": [
        "df.describe()"
      ],
      "execution_count": null,
      "outputs": [
        {
          "output_type": "execute_result",
          "data": {
            "text/html": [
              "<div>\n",
              "<style scoped>\n",
              "    .dataframe tbody tr th:only-of-type {\n",
              "        vertical-align: middle;\n",
              "    }\n",
              "\n",
              "    .dataframe tbody tr th {\n",
              "        vertical-align: top;\n",
              "    }\n",
              "\n",
              "    .dataframe thead th {\n",
              "        text-align: right;\n",
              "    }\n",
              "</style>\n",
              "<table border=\"1\" class=\"dataframe\">\n",
              "  <thead>\n",
              "    <tr style=\"text-align: right;\">\n",
              "      <th></th>\n",
              "      <th>Year</th>\n",
              "      <th>DataIntegrity</th>\n",
              "      <th>DataDisparity</th>\n",
              "      <th>ImprovedStandardisation</th>\n",
              "      <th>ImprovingUtilisationAndITInfrastructure</th>\n",
              "      <th>ImprovedSecurity</th>\n",
              "      <th>ImprovedBusinessIntelligence</th>\n",
              "      <th>ImprovedFlexibility</th>\n",
              "      <th>TechnologyAdvancement</th>\n",
              "      <th>ProvidingDevelopmentAndTestingEnvironment</th>\n",
              "      <th>HeavyProcessingWorkloadsAndPerformance</th>\n",
              "      <th>ITConsolidation</th>\n",
              "      <th>RegularSoftwareUpdatesAndHardwareManitianence</th>\n",
              "      <th>ITRealtedCostBenefit</th>\n",
              "      <th>RemovingOldLegacySytems</th>\n",
              "      <th>ImprovedDataRecoveryAndBackup</th>\n",
              "    </tr>\n",
              "  </thead>\n",
              "  <tbody>\n",
              "    <tr>\n",
              "      <th>count</th>\n",
              "      <td>76.000000</td>\n",
              "      <td>76.000000</td>\n",
              "      <td>76.000000</td>\n",
              "      <td>76.000000</td>\n",
              "      <td>76.000000</td>\n",
              "      <td>76.000000</td>\n",
              "      <td>76.000000</td>\n",
              "      <td>76.000000</td>\n",
              "      <td>76.000000</td>\n",
              "      <td>76.000000</td>\n",
              "      <td>76.000000</td>\n",
              "      <td>76.000000</td>\n",
              "      <td>76.000000</td>\n",
              "      <td>76.000000</td>\n",
              "      <td>76.000000</td>\n",
              "      <td>76.000000</td>\n",
              "    </tr>\n",
              "    <tr>\n",
              "      <th>mean</th>\n",
              "      <td>2013.960526</td>\n",
              "      <td>0.434211</td>\n",
              "      <td>0.210526</td>\n",
              "      <td>0.578947</td>\n",
              "      <td>0.381579</td>\n",
              "      <td>0.407895</td>\n",
              "      <td>0.434211</td>\n",
              "      <td>0.118421</td>\n",
              "      <td>0.618421</td>\n",
              "      <td>0.118421</td>\n",
              "      <td>0.131579</td>\n",
              "      <td>0.539474</td>\n",
              "      <td>0.078947</td>\n",
              "      <td>0.210526</td>\n",
              "      <td>0.197368</td>\n",
              "      <td>0.118421</td>\n",
              "    </tr>\n",
              "    <tr>\n",
              "      <th>std</th>\n",
              "      <td>4.753780</td>\n",
              "      <td>0.498946</td>\n",
              "      <td>0.410391</td>\n",
              "      <td>0.497009</td>\n",
              "      <td>0.489002</td>\n",
              "      <td>0.494709</td>\n",
              "      <td>0.498946</td>\n",
              "      <td>0.325253</td>\n",
              "      <td>0.489002</td>\n",
              "      <td>0.325253</td>\n",
              "      <td>0.340279</td>\n",
              "      <td>0.501751</td>\n",
              "      <td>0.271448</td>\n",
              "      <td>0.410391</td>\n",
              "      <td>0.400657</td>\n",
              "      <td>0.325253</td>\n",
              "    </tr>\n",
              "    <tr>\n",
              "      <th>min</th>\n",
              "      <td>2000.000000</td>\n",
              "      <td>0.000000</td>\n",
              "      <td>0.000000</td>\n",
              "      <td>0.000000</td>\n",
              "      <td>0.000000</td>\n",
              "      <td>0.000000</td>\n",
              "      <td>0.000000</td>\n",
              "      <td>0.000000</td>\n",
              "      <td>0.000000</td>\n",
              "      <td>0.000000</td>\n",
              "      <td>0.000000</td>\n",
              "      <td>0.000000</td>\n",
              "      <td>0.000000</td>\n",
              "      <td>0.000000</td>\n",
              "      <td>0.000000</td>\n",
              "      <td>0.000000</td>\n",
              "    </tr>\n",
              "    <tr>\n",
              "      <th>25%</th>\n",
              "      <td>2011.000000</td>\n",
              "      <td>0.000000</td>\n",
              "      <td>0.000000</td>\n",
              "      <td>0.000000</td>\n",
              "      <td>0.000000</td>\n",
              "      <td>0.000000</td>\n",
              "      <td>0.000000</td>\n",
              "      <td>0.000000</td>\n",
              "      <td>0.000000</td>\n",
              "      <td>0.000000</td>\n",
              "      <td>0.000000</td>\n",
              "      <td>0.000000</td>\n",
              "      <td>0.000000</td>\n",
              "      <td>0.000000</td>\n",
              "      <td>0.000000</td>\n",
              "      <td>0.000000</td>\n",
              "    </tr>\n",
              "    <tr>\n",
              "      <th>50%</th>\n",
              "      <td>2015.000000</td>\n",
              "      <td>0.000000</td>\n",
              "      <td>0.000000</td>\n",
              "      <td>1.000000</td>\n",
              "      <td>0.000000</td>\n",
              "      <td>0.000000</td>\n",
              "      <td>0.000000</td>\n",
              "      <td>0.000000</td>\n",
              "      <td>1.000000</td>\n",
              "      <td>0.000000</td>\n",
              "      <td>0.000000</td>\n",
              "      <td>1.000000</td>\n",
              "      <td>0.000000</td>\n",
              "      <td>0.000000</td>\n",
              "      <td>0.000000</td>\n",
              "      <td>0.000000</td>\n",
              "    </tr>\n",
              "    <tr>\n",
              "      <th>75%</th>\n",
              "      <td>2018.000000</td>\n",
              "      <td>1.000000</td>\n",
              "      <td>0.000000</td>\n",
              "      <td>1.000000</td>\n",
              "      <td>1.000000</td>\n",
              "      <td>1.000000</td>\n",
              "      <td>1.000000</td>\n",
              "      <td>0.000000</td>\n",
              "      <td>1.000000</td>\n",
              "      <td>0.000000</td>\n",
              "      <td>0.000000</td>\n",
              "      <td>1.000000</td>\n",
              "      <td>0.000000</td>\n",
              "      <td>0.000000</td>\n",
              "      <td>0.000000</td>\n",
              "      <td>0.000000</td>\n",
              "    </tr>\n",
              "    <tr>\n",
              "      <th>max</th>\n",
              "      <td>2021.000000</td>\n",
              "      <td>1.000000</td>\n",
              "      <td>1.000000</td>\n",
              "      <td>1.000000</td>\n",
              "      <td>1.000000</td>\n",
              "      <td>1.000000</td>\n",
              "      <td>1.000000</td>\n",
              "      <td>1.000000</td>\n",
              "      <td>1.000000</td>\n",
              "      <td>1.000000</td>\n",
              "      <td>1.000000</td>\n",
              "      <td>1.000000</td>\n",
              "      <td>1.000000</td>\n",
              "      <td>1.000000</td>\n",
              "      <td>1.000000</td>\n",
              "      <td>1.000000</td>\n",
              "    </tr>\n",
              "  </tbody>\n",
              "</table>\n",
              "</div>"
            ],
            "text/plain": [
              "              Year  ...  ImprovedDataRecoveryAndBackup\n",
              "count    76.000000  ...                      76.000000\n",
              "mean   2013.960526  ...                       0.118421\n",
              "std       4.753780  ...                       0.325253\n",
              "min    2000.000000  ...                       0.000000\n",
              "25%    2011.000000  ...                       0.000000\n",
              "50%    2015.000000  ...                       0.000000\n",
              "75%    2018.000000  ...                       0.000000\n",
              "max    2021.000000  ...                       1.000000\n",
              "\n",
              "[8 rows x 16 columns]"
            ]
          },
          "metadata": {
            "tags": []
          },
          "execution_count": 6
        }
      ]
    },
    {
      "cell_type": "code",
      "metadata": {
        "colab": {
          "base_uri": "https://localhost:8080/"
        },
        "id": "zcOPV2X0ppsj",
        "outputId": "1b9c1922-0f22-48ea-8338-5dad37eb3c1c"
      },
      "source": [
        "import plotly.express as px\n",
        "import plotly.io as pio\n",
        "\n",
        "\n",
        "df.keys()"
      ],
      "execution_count": null,
      "outputs": [
        {
          "output_type": "execute_result",
          "data": {
            "text/plain": [
              "Index(['CompaniesName', 'Domain', 'Year', 'DataIntegrity', 'DataDisparity',\n",
              "       'ImprovedStandardisation', 'ImprovingUtilisationAndITInfrastructure',\n",
              "       'ImprovedSecurity', 'ImprovedBusinessIntelligence',\n",
              "       'ImprovedFlexibility', 'TechnologyAdvancement',\n",
              "       'ProvidingDevelopmentAndTestingEnvironment',\n",
              "       'HeavyProcessingWorkloadsAndPerformance', 'ITConsolidation',\n",
              "       'RegularSoftwareUpdatesAndHardwareManitianence', 'ITRealtedCostBenefit',\n",
              "       'RemovingOldLegacySytems', 'ImprovedDataRecoveryAndBackup'],\n",
              "      dtype='object')"
            ]
          },
          "metadata": {
            "tags": []
          },
          "execution_count": 33
        }
      ]
    },
    {
      "cell_type": "code",
      "metadata": {
        "colab": {
          "base_uri": "https://localhost:8080/",
          "height": 542
        },
        "id": "2CJHm--YOrvR",
        "outputId": "5f13862f-ee7a-4d93-cf20-7991464b9dd1"
      },
      "source": [
        "pio.templates.default = \"presentation\"\n",
        "fig1 = px.scatter(df, x=\"Domain\", y=\"Year\", color=\"Improved Security\")\n",
        "fig1.update_layout(title=\"Consolidation Years and Improved Security\")\n",
        "fig1.show()"
      ],
      "execution_count": null,
      "outputs": [
        {
          "output_type": "display_data",
          "data": {
            "text/html": [
              "<html>\n",
              "<head><meta charset=\"utf-8\" /></head>\n",
              "<body>\n",
              "    <div>\n",
              "            <script src=\"https://cdnjs.cloudflare.com/ajax/libs/mathjax/2.7.5/MathJax.js?config=TeX-AMS-MML_SVG\"></script><script type=\"text/javascript\">if (window.MathJax) {MathJax.Hub.Config({SVG: {font: \"STIX-Web\"}});}</script>\n",
              "                <script type=\"text/javascript\">window.PlotlyConfig = {MathJaxConfig: 'local'};</script>\n",
              "        <script src=\"https://cdn.plot.ly/plotly-latest.min.js\"></script>    \n",
              "            <div id=\"cc025bc0-036c-4632-b891-1e0c91b8bdf3\" class=\"plotly-graph-div\" style=\"height:525px; width:100%;\"></div>\n",
              "            <script type=\"text/javascript\">\n",
              "                \n",
              "                    window.PLOTLYENV=window.PLOTLYENV || {};\n",
              "                    \n",
              "                if (document.getElementById(\"cc025bc0-036c-4632-b891-1e0c91b8bdf3\")) {\n",
              "                    Plotly.newPlot(\n",
              "                        'cc025bc0-036c-4632-b891-1e0c91b8bdf3',\n",
              "                        [{\"hoverlabel\": {\"namelength\": 0}, \"hovertemplate\": \"Domain=%{x}<br>Year=%{y}<br>ImprovedSecurity=%{marker.color}\", \"legendgroup\": \"\", \"marker\": {\"color\": [0, 0, 0, 0, 0, 0, 0, 1, 1, 0, 0, 0, 1, 0, 1, 0, 1, 0, 0, 0, 1, 1, 1, 1, 0, 1, 0, 1, 0, 0, 1, 1, 1, 1, 1, 0, 0, 0, 1, 1, 0, 0, 1, 0, 0, 0, 1, 0, 0, 1, 1, 0, 0, 0, 1, 0, 0, 1, 0, 0, 0, 0, 0, 1, 0, 0, 0, 0, 1, 0, 1, 1, 0, 1, 1, 1], \"coloraxis\": \"coloraxis\", \"symbol\": \"circle\"}, \"mode\": \"markers\", \"name\": \"\", \"showlegend\": false, \"type\": \"scatter\", \"x\": [\"Telecomm Industry \", \"Government\", \"BFSI\", \"Telecomm Industry \", \"Steel Industry\", \"E Commerce\", \"Automobile\", \"Pharmaceuticals\", \"E Commerce\", \"FMCG\", \"Steel Industry\", \"FMCG\", \"Tech0logy\", \"Tech0logy\", \"Tech0logy\", \"Tech0logy\", \"Pharmaceuticals\", \"Tech0logy\", \"Tech0logy\", \"Tech0logy\", \"Telecomm Industry \", \"BFSI\", \"Government\", \"Logistics\", \"BFSI\", \"BFSI\", \"Healthcare\", \"Healthcare\", \"Healthcare\", \"Healthcare\", \"Automobile\", \"Telecomm Industry \", \"Resource Industry\", \"Government\", \"Discrete Manufacturing\", \"Logistic and Transportation\", \"Logistic and Transportation\", \"Logistic and Transportation\", \"Logistic and Transportation\", \"Logistic and Transportation\", \"Logistic and Transportation\", \"Resource Industry\", \"Resource Industry\", \"Resource Industry\", \"Resource Industry\", \"Resource Industry\", \"Resource Industry\", \"Retail\", \"Retail\", \"Professional Services\", \"Professional Services\", \"Professional Services\", \"Professional Services\", \"Professional Services\", \"Professional Services\", \"Professional Services\", \"Professional Services\", \"Professional Services\", \"Professional Services\", \"Wholesale\", \"Wholesale\", \"Wholesale\", \"Wholesale\", \"Wholesale\", \"Wholesale\", \"Wholesale\", \"Banking\", \"Banking\", \"Banking\", \"Government\", \"Government\", \"Government\", \"Construction\", \"Construction\", \"Construction\", \"Construction\"], \"xaxis\": \"x\", \"y\": [2020, 2019, 2019, 2018, 2018, 2017, 2008, 2014, 2017, 2018, 2018, 2015, 2020, 2016, 2018, 2006, 2018, 2019, 2018, 2017, 2018, 2016, 2015, 2012, 2015, 2019, 2019, 2020, 2017, 2012, 2014, 2009, 2009, 2008, 2003, 2015, 2015, 2015, 2011, 2008, 2012, 2018, 2012, 2021, 2010, 2019, 2014, 2006, 2018, 2010, 2015, 2006, 2011, 2006, 2017, 2013, 2000, 2011, 2006, 2015, 2014, 2015, 2014, 2012, 2007, 2020, 2019, 2007, 2021, 2008, 2019, 2013, 2010, 2012, 2013, 2014], \"yaxis\": \"y\"}],\n",
              "                        {\"coloraxis\": {\"colorbar\": {\"title\": {\"text\": \"ImprovedSecurity\"}}, \"colorscale\": [[0.0, \"#440154\"], [0.1111111111111111, \"#482878\"], [0.2222222222222222, \"#3e4989\"], [0.3333333333333333, \"#31688e\"], [0.4444444444444444, \"#26828e\"], [0.5555555555555556, \"#1f9e89\"], [0.6666666666666666, \"#35b779\"], [0.7777777777777778, \"#6ece58\"], [0.8888888888888888, \"#b5de2b\"], [1.0, \"#fde725\"]]}, \"legend\": {\"tracegroupgap\": 0}, \"margin\": {\"t\": 60}, \"template\": {\"data\": {\"pie\": [{\"automargin\": true, \"type\": \"pie\"}], \"scatter\": [{\"line\": {\"width\": 3}, \"marker\": {\"size\": 9}, \"type\": \"scatter\"}], \"scatter3d\": [{\"line\": {\"width\": 3}, \"marker\": {\"size\": 9}, \"type\": \"scatter3d\"}], \"scattergeo\": [{\"line\": {\"width\": 3}, \"marker\": {\"size\": 9}, \"type\": \"scattergeo\"}], \"scattergl\": [{\"line\": {\"width\": 3}, \"marker\": {\"size\": 9}, \"type\": \"scattergl\"}], \"scatterpolar\": [{\"line\": {\"width\": 3}, \"marker\": {\"size\": 9}, \"type\": \"scatterpolar\"}], \"scatterpolargl\": [{\"line\": {\"width\": 3}, \"marker\": {\"size\": 9}, \"type\": \"scatterpolargl\"}], \"scatterternary\": [{\"line\": {\"width\": 3}, \"marker\": {\"size\": 9}, \"type\": \"scatterternary\"}], \"table\": [{\"cells\": {\"height\": 30}, \"header\": {\"height\": 36}, \"type\": \"table\"}]}, \"layout\": {\"font\": {\"size\": 18}, \"xaxis\": {\"title\": {\"standoff\": 15}}, \"yaxis\": {\"title\": {\"standoff\": 15}}}}, \"title\": {\"text\": \"Consolidation Years and ImprovedSecurity\"}, \"xaxis\": {\"anchor\": \"y\", \"domain\": [0.0, 1.0], \"title\": {\"text\": \"Domain\"}}, \"yaxis\": {\"anchor\": \"x\", \"domain\": [0.0, 1.0], \"title\": {\"text\": \"Year\"}}},\n",
              "                        {\"responsive\": true}\n",
              "                    ).then(function(){\n",
              "                            \n",
              "var gd = document.getElementById('cc025bc0-036c-4632-b891-1e0c91b8bdf3');\n",
              "var x = new MutationObserver(function (mutations, observer) {{\n",
              "        var display = window.getComputedStyle(gd).display;\n",
              "        if (!display || display === 'none') {{\n",
              "            console.log([gd, 'removed!']);\n",
              "            Plotly.purge(gd);\n",
              "            observer.disconnect();\n",
              "        }}\n",
              "}});\n",
              "\n",
              "// Listen for the removal of the full notebook cells\n",
              "var notebookContainer = gd.closest('#notebook-container');\n",
              "if (notebookContainer) {{\n",
              "    x.observe(notebookContainer, {childList: true});\n",
              "}}\n",
              "\n",
              "// Listen for the clearing of the current output cell\n",
              "var outputEl = gd.closest('.output');\n",
              "if (outputEl) {{\n",
              "    x.observe(outputEl, {childList: true});\n",
              "}}\n",
              "\n",
              "                        })\n",
              "                };\n",
              "                \n",
              "            </script>\n",
              "        </div>\n",
              "</body>\n",
              "</html>"
            ]
          },
          "metadata": {
            "tags": []
          }
        }
      ]
    },
    {
      "cell_type": "code",
      "metadata": {
        "colab": {
          "base_uri": "https://localhost:8080/",
          "height": 542
        },
        "id": "4rpEwCAlOgPh",
        "outputId": "9825a082-89d8-4c6b-859c-ae53b009208b"
      },
      "source": [
        "fig1 = px.scatter(df, x=\"Domain\", y=\"Year\", color=\"TechnologyAdvancement\")\n",
        "fig1.update_layout(title=\"Consolidation Years and Technology Advancement\")\n",
        "fig1.show()"
      ],
      "execution_count": null,
      "outputs": [
        {
          "output_type": "display_data",
          "data": {
            "text/html": [
              "<html>\n",
              "<head><meta charset=\"utf-8\" /></head>\n",
              "<body>\n",
              "    <div>\n",
              "            <script src=\"https://cdnjs.cloudflare.com/ajax/libs/mathjax/2.7.5/MathJax.js?config=TeX-AMS-MML_SVG\"></script><script type=\"text/javascript\">if (window.MathJax) {MathJax.Hub.Config({SVG: {font: \"STIX-Web\"}});}</script>\n",
              "                <script type=\"text/javascript\">window.PlotlyConfig = {MathJaxConfig: 'local'};</script>\n",
              "        <script src=\"https://cdn.plot.ly/plotly-latest.min.js\"></script>    \n",
              "            <div id=\"5537b232-85ea-4f11-a52e-94a34d2d37b0\" class=\"plotly-graph-div\" style=\"height:525px; width:100%;\"></div>\n",
              "            <script type=\"text/javascript\">\n",
              "                \n",
              "                    window.PLOTLYENV=window.PLOTLYENV || {};\n",
              "                    \n",
              "                if (document.getElementById(\"5537b232-85ea-4f11-a52e-94a34d2d37b0\")) {\n",
              "                    Plotly.newPlot(\n",
              "                        '5537b232-85ea-4f11-a52e-94a34d2d37b0',\n",
              "                        [{\"hoverlabel\": {\"namelength\": 0}, \"hovertemplate\": \"Domain=%{x}<br>Year=%{y}<br>TechnologyAdvancement=%{marker.color}\", \"legendgroup\": \"\", \"marker\": {\"color\": [1, 1, 0, 0, 0, 0, 1, 1, 1, 0, 0, 0, 1, 0, 1, 1, 1, 1, 1, 1, 1, 1, 1, 1, 1, 0, 0, 1, 0, 0, 1, 1, 1, 0, 1, 0, 0, 1, 1, 0, 1, 1, 1, 0, 1, 1, 1, 1, 1, 1, 1, 0, 0, 0, 1, 1, 1, 1, 0, 1, 0, 0, 0, 0, 0, 1, 1, 0, 1, 1, 0, 1, 1, 1, 1, 0], \"coloraxis\": \"coloraxis\", \"symbol\": \"circle\"}, \"mode\": \"markers\", \"name\": \"\", \"showlegend\": false, \"type\": \"scatter\", \"x\": [\"Telecomm Industry \", \"Government\", \"BFSI\", \"Telecomm Industry \", \"Steel Industry\", \"E Commerce\", \"Automobile\", \"Pharmaceuticals\", \"E Commerce\", \"FMCG\", \"Steel Industry\", \"FMCG\", \"Tech0logy\", \"Tech0logy\", \"Tech0logy\", \"Tech0logy\", \"Pharmaceuticals\", \"Tech0logy\", \"Tech0logy\", \"Tech0logy\", \"Telecomm Industry \", \"BFSI\", \"Government\", \"Logistics\", \"BFSI\", \"BFSI\", \"Healthcare\", \"Healthcare\", \"Healthcare\", \"Healthcare\", \"Automobile\", \"Telecomm Industry \", \"Resource Industry\", \"Government\", \"Discrete Manufacturing\", \"Logistic and Transportation\", \"Logistic and Transportation\", \"Logistic and Transportation\", \"Logistic and Transportation\", \"Logistic and Transportation\", \"Logistic and Transportation\", \"Resource Industry\", \"Resource Industry\", \"Resource Industry\", \"Resource Industry\", \"Resource Industry\", \"Resource Industry\", \"Retail\", \"Retail\", \"Professional Services\", \"Professional Services\", \"Professional Services\", \"Professional Services\", \"Professional Services\", \"Professional Services\", \"Professional Services\", \"Professional Services\", \"Professional Services\", \"Professional Services\", \"Wholesale\", \"Wholesale\", \"Wholesale\", \"Wholesale\", \"Wholesale\", \"Wholesale\", \"Wholesale\", \"Banking\", \"Banking\", \"Banking\", \"Government\", \"Government\", \"Government\", \"Construction\", \"Construction\", \"Construction\", \"Construction\"], \"xaxis\": \"x\", \"y\": [2020, 2019, 2019, 2018, 2018, 2017, 2008, 2014, 2017, 2018, 2018, 2015, 2020, 2016, 2018, 2006, 2018, 2019, 2018, 2017, 2018, 2016, 2015, 2012, 2015, 2019, 2019, 2020, 2017, 2012, 2014, 2009, 2009, 2008, 2003, 2015, 2015, 2015, 2011, 2008, 2012, 2018, 2012, 2021, 2010, 2019, 2014, 2006, 2018, 2010, 2015, 2006, 2011, 2006, 2017, 2013, 2000, 2011, 2006, 2015, 2014, 2015, 2014, 2012, 2007, 2020, 2019, 2007, 2021, 2008, 2019, 2013, 2010, 2012, 2013, 2014], \"yaxis\": \"y\"}],\n",
              "                        {\"coloraxis\": {\"colorbar\": {\"title\": {\"text\": \"TechnologyAdvancement\"}}, \"colorscale\": [[0.0, \"#440154\"], [0.1111111111111111, \"#482878\"], [0.2222222222222222, \"#3e4989\"], [0.3333333333333333, \"#31688e\"], [0.4444444444444444, \"#26828e\"], [0.5555555555555556, \"#1f9e89\"], [0.6666666666666666, \"#35b779\"], [0.7777777777777778, \"#6ece58\"], [0.8888888888888888, \"#b5de2b\"], [1.0, \"#fde725\"]]}, \"legend\": {\"tracegroupgap\": 0}, \"margin\": {\"t\": 60}, \"template\": {\"data\": {\"pie\": [{\"automargin\": true, \"type\": \"pie\"}], \"scatter\": [{\"line\": {\"width\": 3}, \"marker\": {\"size\": 9}, \"type\": \"scatter\"}], \"scatter3d\": [{\"line\": {\"width\": 3}, \"marker\": {\"size\": 9}, \"type\": \"scatter3d\"}], \"scattergeo\": [{\"line\": {\"width\": 3}, \"marker\": {\"size\": 9}, \"type\": \"scattergeo\"}], \"scattergl\": [{\"line\": {\"width\": 3}, \"marker\": {\"size\": 9}, \"type\": \"scattergl\"}], \"scatterpolar\": [{\"line\": {\"width\": 3}, \"marker\": {\"size\": 9}, \"type\": \"scatterpolar\"}], \"scatterpolargl\": [{\"line\": {\"width\": 3}, \"marker\": {\"size\": 9}, \"type\": \"scatterpolargl\"}], \"scatterternary\": [{\"line\": {\"width\": 3}, \"marker\": {\"size\": 9}, \"type\": \"scatterternary\"}], \"table\": [{\"cells\": {\"height\": 30}, \"header\": {\"height\": 36}, \"type\": \"table\"}]}, \"layout\": {\"font\": {\"size\": 18}, \"xaxis\": {\"title\": {\"standoff\": 15}}, \"yaxis\": {\"title\": {\"standoff\": 15}}}}, \"title\": {\"text\": \"Consolidation Years and Technology Advancement\"}, \"xaxis\": {\"anchor\": \"y\", \"domain\": [0.0, 1.0], \"title\": {\"text\": \"Domain\"}}, \"yaxis\": {\"anchor\": \"x\", \"domain\": [0.0, 1.0], \"title\": {\"text\": \"Year\"}}},\n",
              "                        {\"responsive\": true}\n",
              "                    ).then(function(){\n",
              "                            \n",
              "var gd = document.getElementById('5537b232-85ea-4f11-a52e-94a34d2d37b0');\n",
              "var x = new MutationObserver(function (mutations, observer) {{\n",
              "        var display = window.getComputedStyle(gd).display;\n",
              "        if (!display || display === 'none') {{\n",
              "            console.log([gd, 'removed!']);\n",
              "            Plotly.purge(gd);\n",
              "            observer.disconnect();\n",
              "        }}\n",
              "}});\n",
              "\n",
              "// Listen for the removal of the full notebook cells\n",
              "var notebookContainer = gd.closest('#notebook-container');\n",
              "if (notebookContainer) {{\n",
              "    x.observe(notebookContainer, {childList: true});\n",
              "}}\n",
              "\n",
              "// Listen for the clearing of the current output cell\n",
              "var outputEl = gd.closest('.output');\n",
              "if (outputEl) {{\n",
              "    x.observe(outputEl, {childList: true});\n",
              "}}\n",
              "\n",
              "                        })\n",
              "                };\n",
              "                \n",
              "            </script>\n",
              "        </div>\n",
              "</body>\n",
              "</html>"
            ]
          },
          "metadata": {
            "tags": []
          }
        }
      ]
    },
    {
      "cell_type": "code",
      "metadata": {
        "colab": {
          "base_uri": "https://localhost:8080/",
          "height": 542
        },
        "id": "sqxLLI0YPlA1",
        "outputId": "b2ecf1a8-a0f8-422f-844f-4d4507044518"
      },
      "source": [
        "fig1 = px.scatter(df, x=\"Domain\", y=\"Year\", color=\"ITConsolidation\")\n",
        "fig1.update_layout(title=\"Consolidation Years and IT Consolidation\")\n",
        "fig1.show()"
      ],
      "execution_count": null,
      "outputs": [
        {
          "output_type": "display_data",
          "data": {
            "text/html": [
              "<html>\n",
              "<head><meta charset=\"utf-8\" /></head>\n",
              "<body>\n",
              "    <div>\n",
              "            <script src=\"https://cdnjs.cloudflare.com/ajax/libs/mathjax/2.7.5/MathJax.js?config=TeX-AMS-MML_SVG\"></script><script type=\"text/javascript\">if (window.MathJax) {MathJax.Hub.Config({SVG: {font: \"STIX-Web\"}});}</script>\n",
              "                <script type=\"text/javascript\">window.PlotlyConfig = {MathJaxConfig: 'local'};</script>\n",
              "        <script src=\"https://cdn.plot.ly/plotly-latest.min.js\"></script>    \n",
              "            <div id=\"99475d62-3f8e-4a4c-ac05-2ad353337592\" class=\"plotly-graph-div\" style=\"height:525px; width:100%;\"></div>\n",
              "            <script type=\"text/javascript\">\n",
              "                \n",
              "                    window.PLOTLYENV=window.PLOTLYENV || {};\n",
              "                    \n",
              "                if (document.getElementById(\"99475d62-3f8e-4a4c-ac05-2ad353337592\")) {\n",
              "                    Plotly.newPlot(\n",
              "                        '99475d62-3f8e-4a4c-ac05-2ad353337592',\n",
              "                        [{\"hoverlabel\": {\"namelength\": 0}, \"hovertemplate\": \"Domain=%{x}<br>Year=%{y}<br>ITConsolidation=%{marker.color}\", \"legendgroup\": \"\", \"marker\": {\"color\": [0, 1, 0, 1, 0, 1, 0, 0, 1, 0, 0, 0, 1, 0, 1, 1, 1, 1, 0, 0, 1, 1, 1, 1, 1, 1, 0, 0, 0, 0, 1, 1, 1, 1, 1, 0, 0, 1, 1, 0, 0, 0, 1, 0, 1, 1, 0, 1, 0, 1, 1, 0, 0, 1, 1, 0, 1, 0, 1, 0, 1, 0, 0, 1, 1, 0, 1, 1, 0, 0, 1, 1, 0, 0, 1, 1], \"coloraxis\": \"coloraxis\", \"symbol\": \"circle\"}, \"mode\": \"markers\", \"name\": \"\", \"showlegend\": false, \"type\": \"scatter\", \"x\": [\"Telecomm Industry \", \"Government\", \"BFSI\", \"Telecomm Industry \", \"Steel Industry\", \"E Commerce\", \"Automobile\", \"Pharmaceuticals\", \"E Commerce\", \"FMCG\", \"Steel Industry\", \"FMCG\", \"Tech0logy\", \"Tech0logy\", \"Tech0logy\", \"Tech0logy\", \"Pharmaceuticals\", \"Tech0logy\", \"Tech0logy\", \"Tech0logy\", \"Telecomm Industry \", \"BFSI\", \"Government\", \"Logistics\", \"BFSI\", \"BFSI\", \"Healthcare\", \"Healthcare\", \"Healthcare\", \"Healthcare\", \"Automobile\", \"Telecomm Industry \", \"Resource Industry\", \"Government\", \"Discrete Manufacturing\", \"Logistic and Transportation\", \"Logistic and Transportation\", \"Logistic and Transportation\", \"Logistic and Transportation\", \"Logistic and Transportation\", \"Logistic and Transportation\", \"Resource Industry\", \"Resource Industry\", \"Resource Industry\", \"Resource Industry\", \"Resource Industry\", \"Resource Industry\", \"Retail\", \"Retail\", \"Professional Services\", \"Professional Services\", \"Professional Services\", \"Professional Services\", \"Professional Services\", \"Professional Services\", \"Professional Services\", \"Professional Services\", \"Professional Services\", \"Professional Services\", \"Wholesale\", \"Wholesale\", \"Wholesale\", \"Wholesale\", \"Wholesale\", \"Wholesale\", \"Wholesale\", \"Banking\", \"Banking\", \"Banking\", \"Government\", \"Government\", \"Government\", \"Construction\", \"Construction\", \"Construction\", \"Construction\"], \"xaxis\": \"x\", \"y\": [2020, 2019, 2019, 2018, 2018, 2017, 2008, 2014, 2017, 2018, 2018, 2015, 2020, 2016, 2018, 2006, 2018, 2019, 2018, 2017, 2018, 2016, 2015, 2012, 2015, 2019, 2019, 2020, 2017, 2012, 2014, 2009, 2009, 2008, 2003, 2015, 2015, 2015, 2011, 2008, 2012, 2018, 2012, 2021, 2010, 2019, 2014, 2006, 2018, 2010, 2015, 2006, 2011, 2006, 2017, 2013, 2000, 2011, 2006, 2015, 2014, 2015, 2014, 2012, 2007, 2020, 2019, 2007, 2021, 2008, 2019, 2013, 2010, 2012, 2013, 2014], \"yaxis\": \"y\"}],\n",
              "                        {\"coloraxis\": {\"colorbar\": {\"title\": {\"text\": \"ITConsolidation\"}}, \"colorscale\": [[0.0, \"#440154\"], [0.1111111111111111, \"#482878\"], [0.2222222222222222, \"#3e4989\"], [0.3333333333333333, \"#31688e\"], [0.4444444444444444, \"#26828e\"], [0.5555555555555556, \"#1f9e89\"], [0.6666666666666666, \"#35b779\"], [0.7777777777777778, \"#6ece58\"], [0.8888888888888888, \"#b5de2b\"], [1.0, \"#fde725\"]]}, \"legend\": {\"tracegroupgap\": 0}, \"margin\": {\"t\": 60}, \"template\": {\"data\": {\"pie\": [{\"automargin\": true, \"type\": \"pie\"}], \"scatter\": [{\"line\": {\"width\": 3}, \"marker\": {\"size\": 9}, \"type\": \"scatter\"}], \"scatter3d\": [{\"line\": {\"width\": 3}, \"marker\": {\"size\": 9}, \"type\": \"scatter3d\"}], \"scattergeo\": [{\"line\": {\"width\": 3}, \"marker\": {\"size\": 9}, \"type\": \"scattergeo\"}], \"scattergl\": [{\"line\": {\"width\": 3}, \"marker\": {\"size\": 9}, \"type\": \"scattergl\"}], \"scatterpolar\": [{\"line\": {\"width\": 3}, \"marker\": {\"size\": 9}, \"type\": \"scatterpolar\"}], \"scatterpolargl\": [{\"line\": {\"width\": 3}, \"marker\": {\"size\": 9}, \"type\": \"scatterpolargl\"}], \"scatterternary\": [{\"line\": {\"width\": 3}, \"marker\": {\"size\": 9}, \"type\": \"scatterternary\"}], \"table\": [{\"cells\": {\"height\": 30}, \"header\": {\"height\": 36}, \"type\": \"table\"}]}, \"layout\": {\"font\": {\"size\": 18}, \"xaxis\": {\"title\": {\"standoff\": 15}}, \"yaxis\": {\"title\": {\"standoff\": 15}}}}, \"title\": {\"text\": \"Consolidation Years and IT Consolidation\"}, \"xaxis\": {\"anchor\": \"y\", \"domain\": [0.0, 1.0], \"title\": {\"text\": \"Domain\"}}, \"yaxis\": {\"anchor\": \"x\", \"domain\": [0.0, 1.0], \"title\": {\"text\": \"Year\"}}},\n",
              "                        {\"responsive\": true}\n",
              "                    ).then(function(){\n",
              "                            \n",
              "var gd = document.getElementById('99475d62-3f8e-4a4c-ac05-2ad353337592');\n",
              "var x = new MutationObserver(function (mutations, observer) {{\n",
              "        var display = window.getComputedStyle(gd).display;\n",
              "        if (!display || display === 'none') {{\n",
              "            console.log([gd, 'removed!']);\n",
              "            Plotly.purge(gd);\n",
              "            observer.disconnect();\n",
              "        }}\n",
              "}});\n",
              "\n",
              "// Listen for the removal of the full notebook cells\n",
              "var notebookContainer = gd.closest('#notebook-container');\n",
              "if (notebookContainer) {{\n",
              "    x.observe(notebookContainer, {childList: true});\n",
              "}}\n",
              "\n",
              "// Listen for the clearing of the current output cell\n",
              "var outputEl = gd.closest('.output');\n",
              "if (outputEl) {{\n",
              "    x.observe(outputEl, {childList: true});\n",
              "}}\n",
              "\n",
              "                        })\n",
              "                };\n",
              "                \n",
              "            </script>\n",
              "        </div>\n",
              "</body>\n",
              "</html>"
            ]
          },
          "metadata": {
            "tags": []
          }
        }
      ]
    },
    {
      "cell_type": "code",
      "metadata": {
        "colab": {
          "base_uri": "https://localhost:8080/",
          "height": 542
        },
        "id": "yYFgKgyyFk8Z",
        "outputId": "486db51c-41fa-4f57-9ce3-fb488627f750"
      },
      "source": [
        "fig1 = px.scatter(df, x=\"Domain\", y=\"Year\", color=\"DataDisparity\")\n",
        "fig1.update_layout(title=\"Consolidation Years and DataDisparity\")\n",
        "fig1.show()"
      ],
      "execution_count": null,
      "outputs": [
        {
          "output_type": "display_data",
          "data": {
            "text/html": [
              "<html>\n",
              "<head><meta charset=\"utf-8\" /></head>\n",
              "<body>\n",
              "    <div>\n",
              "            <script src=\"https://cdnjs.cloudflare.com/ajax/libs/mathjax/2.7.5/MathJax.js?config=TeX-AMS-MML_SVG\"></script><script type=\"text/javascript\">if (window.MathJax) {MathJax.Hub.Config({SVG: {font: \"STIX-Web\"}});}</script>\n",
              "                <script type=\"text/javascript\">window.PlotlyConfig = {MathJaxConfig: 'local'};</script>\n",
              "        <script src=\"https://cdn.plot.ly/plotly-latest.min.js\"></script>    \n",
              "            <div id=\"91908c84-dda8-492c-83fa-ea12657eaae3\" class=\"plotly-graph-div\" style=\"height:525px; width:100%;\"></div>\n",
              "            <script type=\"text/javascript\">\n",
              "                \n",
              "                    window.PLOTLYENV=window.PLOTLYENV || {};\n",
              "                    \n",
              "                if (document.getElementById(\"91908c84-dda8-492c-83fa-ea12657eaae3\")) {\n",
              "                    Plotly.newPlot(\n",
              "                        '91908c84-dda8-492c-83fa-ea12657eaae3',\n",
              "                        [{\"hoverlabel\": {\"namelength\": 0}, \"hovertemplate\": \"Domain=%{x}<br>Year=%{y}<br>DataDisparity=%{marker.color}\", \"legendgroup\": \"\", \"marker\": {\"color\": [0, 1, 0, 0, 0, 0, 0, 0, 1, 0, 0, 0, 0, 0, 0, 0, 0, 0, 0, 0, 0, 1, 0, 0, 0, 1, 0, 1, 1, 1, 1, 1, 0, 0, 1, 0, 1, 1, 0, 1, 1, 1, 0, 0, 0, 0, 0, 0, 0, 0, 0, 0, 0, 0, 0, 0, 0, 0, 0, 0, 0, 0, 1, 0, 0, 0, 0, 0, 0, 0, 0, 0, 0, 0, 0, 0], \"coloraxis\": \"coloraxis\", \"symbol\": \"circle\"}, \"mode\": \"markers\", \"name\": \"\", \"showlegend\": false, \"type\": \"scatter\", \"x\": [\"Telecomm Industry \", \"Government\", \"BFSI\", \"Telecomm Industry \", \"Steel Industry\", \"E Commerce\", \"Automobile\", \"Pharmaceuticals\", \"E Commerce\", \"FMCG\", \"Steel Industry\", \"FMCG\", \"Tech0logy\", \"Tech0logy\", \"Tech0logy\", \"Tech0logy\", \"Pharmaceuticals\", \"Tech0logy\", \"Tech0logy\", \"Tech0logy\", \"Telecomm Industry \", \"BFSI\", \"Government\", \"Logistics\", \"BFSI\", \"BFSI\", \"Healthcare\", \"Healthcare\", \"Healthcare\", \"Healthcare\", \"Automobile\", \"Telecomm Industry \", \"Resource Industry\", \"Government\", \"Discrete Manufacturing\", \"Logistic and Transportation\", \"Logistic and Transportation\", \"Logistic and Transportation\", \"Logistic and Transportation\", \"Logistic and Transportation\", \"Logistic and Transportation\", \"Resource Industry\", \"Resource Industry\", \"Resource Industry\", \"Resource Industry\", \"Resource Industry\", \"Resource Industry\", \"Retail\", \"Retail\", \"Professional Services\", \"Professional Services\", \"Professional Services\", \"Professional Services\", \"Professional Services\", \"Professional Services\", \"Professional Services\", \"Professional Services\", \"Professional Services\", \"Professional Services\", \"Wholesale\", \"Wholesale\", \"Wholesale\", \"Wholesale\", \"Wholesale\", \"Wholesale\", \"Wholesale\", \"Banking\", \"Banking\", \"Banking\", \"Government\", \"Government\", \"Government\", \"Construction\", \"Construction\", \"Construction\", \"Construction\"], \"xaxis\": \"x\", \"y\": [2020, 2019, 2019, 2018, 2018, 2017, 2008, 2014, 2017, 2018, 2018, 2015, 2020, 2016, 2018, 2006, 2018, 2019, 2018, 2017, 2018, 2016, 2015, 2012, 2015, 2019, 2019, 2020, 2017, 2012, 2014, 2009, 2009, 2008, 2003, 2015, 2015, 2015, 2011, 2008, 2012, 2018, 2012, 2021, 2010, 2019, 2014, 2006, 2018, 2010, 2015, 2006, 2011, 2006, 2017, 2013, 2000, 2011, 2006, 2015, 2014, 2015, 2014, 2012, 2007, 2020, 2019, 2007, 2021, 2008, 2019, 2013, 2010, 2012, 2013, 2014], \"yaxis\": \"y\"}],\n",
              "                        {\"coloraxis\": {\"colorbar\": {\"title\": {\"text\": \"DataDisparity\"}}, \"colorscale\": [[0.0, \"#440154\"], [0.1111111111111111, \"#482878\"], [0.2222222222222222, \"#3e4989\"], [0.3333333333333333, \"#31688e\"], [0.4444444444444444, \"#26828e\"], [0.5555555555555556, \"#1f9e89\"], [0.6666666666666666, \"#35b779\"], [0.7777777777777778, \"#6ece58\"], [0.8888888888888888, \"#b5de2b\"], [1.0, \"#fde725\"]]}, \"legend\": {\"tracegroupgap\": 0}, \"margin\": {\"t\": 60}, \"template\": {\"data\": {\"pie\": [{\"automargin\": true, \"type\": \"pie\"}], \"scatter\": [{\"line\": {\"width\": 3}, \"marker\": {\"size\": 9}, \"type\": \"scatter\"}], \"scatter3d\": [{\"line\": {\"width\": 3}, \"marker\": {\"size\": 9}, \"type\": \"scatter3d\"}], \"scattergeo\": [{\"line\": {\"width\": 3}, \"marker\": {\"size\": 9}, \"type\": \"scattergeo\"}], \"scattergl\": [{\"line\": {\"width\": 3}, \"marker\": {\"size\": 9}, \"type\": \"scattergl\"}], \"scatterpolar\": [{\"line\": {\"width\": 3}, \"marker\": {\"size\": 9}, \"type\": \"scatterpolar\"}], \"scatterpolargl\": [{\"line\": {\"width\": 3}, \"marker\": {\"size\": 9}, \"type\": \"scatterpolargl\"}], \"scatterternary\": [{\"line\": {\"width\": 3}, \"marker\": {\"size\": 9}, \"type\": \"scatterternary\"}], \"table\": [{\"cells\": {\"height\": 30}, \"header\": {\"height\": 36}, \"type\": \"table\"}]}, \"layout\": {\"font\": {\"size\": 18}, \"xaxis\": {\"title\": {\"standoff\": 15}}, \"yaxis\": {\"title\": {\"standoff\": 15}}}}, \"title\": {\"text\": \"Consolidation Years and DataDisparity\"}, \"xaxis\": {\"anchor\": \"y\", \"domain\": [0.0, 1.0], \"title\": {\"text\": \"Domain\"}}, \"yaxis\": {\"anchor\": \"x\", \"domain\": [0.0, 1.0], \"title\": {\"text\": \"Year\"}}},\n",
              "                        {\"responsive\": true}\n",
              "                    ).then(function(){\n",
              "                            \n",
              "var gd = document.getElementById('91908c84-dda8-492c-83fa-ea12657eaae3');\n",
              "var x = new MutationObserver(function (mutations, observer) {{\n",
              "        var display = window.getComputedStyle(gd).display;\n",
              "        if (!display || display === 'none') {{\n",
              "            console.log([gd, 'removed!']);\n",
              "            Plotly.purge(gd);\n",
              "            observer.disconnect();\n",
              "        }}\n",
              "}});\n",
              "\n",
              "// Listen for the removal of the full notebook cells\n",
              "var notebookContainer = gd.closest('#notebook-container');\n",
              "if (notebookContainer) {{\n",
              "    x.observe(notebookContainer, {childList: true});\n",
              "}}\n",
              "\n",
              "// Listen for the clearing of the current output cell\n",
              "var outputEl = gd.closest('.output');\n",
              "if (outputEl) {{\n",
              "    x.observe(outputEl, {childList: true});\n",
              "}}\n",
              "\n",
              "                        })\n",
              "                };\n",
              "                \n",
              "            </script>\n",
              "        </div>\n",
              "</body>\n",
              "</html>"
            ]
          },
          "metadata": {
            "tags": []
          }
        }
      ]
    },
    {
      "cell_type": "code",
      "metadata": {
        "colab": {
          "base_uri": "https://localhost:8080/",
          "height": 542
        },
        "id": "7flMPzQLRseD",
        "outputId": "1516bf5c-9d55-44ea-e847-3278da862d01"
      },
      "source": [
        "fig2 = px.scatter_3d(df, x=\"Domain\", y=\"Year\", z=\"TechnologyAdvancement\",\n",
        "                     color=\"DataIntegrity\",size=\"ImprovedBusinessIntelligence\")\n",
        "fig2.update_layout(title=\"5 Features Representation\")\n",
        "fig2.show()"
      ],
      "execution_count": null,
      "outputs": [
        {
          "output_type": "display_data",
          "data": {
            "text/html": [
              "<html>\n",
              "<head><meta charset=\"utf-8\" /></head>\n",
              "<body>\n",
              "    <div>\n",
              "            <script src=\"https://cdnjs.cloudflare.com/ajax/libs/mathjax/2.7.5/MathJax.js?config=TeX-AMS-MML_SVG\"></script><script type=\"text/javascript\">if (window.MathJax) {MathJax.Hub.Config({SVG: {font: \"STIX-Web\"}});}</script>\n",
              "                <script type=\"text/javascript\">window.PlotlyConfig = {MathJaxConfig: 'local'};</script>\n",
              "        <script src=\"https://cdn.plot.ly/plotly-latest.min.js\"></script>    \n",
              "            <div id=\"d2b2ebd6-6937-444d-8c11-0a70238f9370\" class=\"plotly-graph-div\" style=\"height:525px; width:100%;\"></div>\n",
              "            <script type=\"text/javascript\">\n",
              "                \n",
              "                    window.PLOTLYENV=window.PLOTLYENV || {};\n",
              "                    \n",
              "                if (document.getElementById(\"d2b2ebd6-6937-444d-8c11-0a70238f9370\")) {\n",
              "                    Plotly.newPlot(\n",
              "                        'd2b2ebd6-6937-444d-8c11-0a70238f9370',\n",
              "                        [{\"hoverlabel\": {\"namelength\": 0}, \"hovertemplate\": \"Domain=%{x}<br>Year=%{y}<br>TechnologyAdvancement=%{z}<br>ImprovedBusinessIntelligence=%{marker.size}<br>DataIntegrity=%{marker.color}\", \"legendgroup\": \"\", \"marker\": {\"color\": [0, 1, 0, 1, 0, 1, 0, 0, 1, 0, 0, 0, 1, 1, 1, 1, 1, 1, 0, 0, 1, 1, 1, 1, 0, 1, 1, 1, 1, 1, 1, 1, 1, 0, 1, 0, 1, 1, 0, 1, 1, 1, 0, 0, 0, 1, 0, 1, 0, 0, 0, 0, 0, 0, 1, 0, 0, 0, 0, 1, 0, 0, 0, 0, 0, 0, 0, 0, 0, 0, 0, 0, 1, 0, 0, 0], \"coloraxis\": \"coloraxis\", \"size\": [1, 1, 1, 1, 0, 1, 0, 1, 1, 0, 0, 0, 1, 1, 1, 1, 1, 1, 1, 1, 1, 1, 1, 1, 0, 1, 1, 1, 1, 1, 1, 0, 1, 0, 0, 0, 0, 0, 1, 0, 0, 1, 0, 0, 0, 0, 0, 0, 0, 0, 0, 0, 1, 0, 0, 0, 0, 0, 1, 0, 0, 1, 0, 0, 0, 0, 1, 0, 0, 0, 0, 1, 0, 0, 0, 0], \"sizemode\": \"area\", \"sizeref\": 0.0025, \"symbol\": \"circle\"}, \"mode\": \"markers\", \"name\": \"\", \"scene\": \"scene\", \"showlegend\": false, \"type\": \"scatter3d\", \"x\": [\"Telecomm Industry \", \"Government\", \"BFSI\", \"Telecomm Industry \", \"Steel Industry\", \"E Commerce\", \"Automobile\", \"Pharmaceuticals\", \"E Commerce\", \"FMCG\", \"Steel Industry\", \"FMCG\", \"Tech0logy\", \"Tech0logy\", \"Tech0logy\", \"Tech0logy\", \"Pharmaceuticals\", \"Tech0logy\", \"Tech0logy\", \"Tech0logy\", \"Telecomm Industry \", \"BFSI\", \"Government\", \"Logistics\", \"BFSI\", \"BFSI\", \"Healthcare\", \"Healthcare\", \"Healthcare\", \"Healthcare\", \"Automobile\", \"Telecomm Industry \", \"Resource Industry\", \"Government\", \"Discrete Manufacturing\", \"Logistic and Transportation\", \"Logistic and Transportation\", \"Logistic and Transportation\", \"Logistic and Transportation\", \"Logistic and Transportation\", \"Logistic and Transportation\", \"Resource Industry\", \"Resource Industry\", \"Resource Industry\", \"Resource Industry\", \"Resource Industry\", \"Resource Industry\", \"Retail\", \"Retail\", \"Professional Services\", \"Professional Services\", \"Professional Services\", \"Professional Services\", \"Professional Services\", \"Professional Services\", \"Professional Services\", \"Professional Services\", \"Professional Services\", \"Professional Services\", \"Wholesale\", \"Wholesale\", \"Wholesale\", \"Wholesale\", \"Wholesale\", \"Wholesale\", \"Wholesale\", \"Banking\", \"Banking\", \"Banking\", \"Government\", \"Government\", \"Government\", \"Construction\", \"Construction\", \"Construction\", \"Construction\"], \"y\": [2020, 2019, 2019, 2018, 2018, 2017, 2008, 2014, 2017, 2018, 2018, 2015, 2020, 2016, 2018, 2006, 2018, 2019, 2018, 2017, 2018, 2016, 2015, 2012, 2015, 2019, 2019, 2020, 2017, 2012, 2014, 2009, 2009, 2008, 2003, 2015, 2015, 2015, 2011, 2008, 2012, 2018, 2012, 2021, 2010, 2019, 2014, 2006, 2018, 2010, 2015, 2006, 2011, 2006, 2017, 2013, 2000, 2011, 2006, 2015, 2014, 2015, 2014, 2012, 2007, 2020, 2019, 2007, 2021, 2008, 2019, 2013, 2010, 2012, 2013, 2014], \"z\": [1, 1, 0, 0, 0, 0, 1, 1, 1, 0, 0, 0, 1, 0, 1, 1, 1, 1, 1, 1, 1, 1, 1, 1, 1, 0, 0, 1, 0, 0, 1, 1, 1, 0, 1, 0, 0, 1, 1, 0, 1, 1, 1, 0, 1, 1, 1, 1, 1, 1, 1, 0, 0, 0, 1, 1, 1, 1, 0, 1, 0, 0, 0, 0, 0, 1, 1, 0, 1, 1, 0, 1, 1, 1, 1, 0]}],\n",
              "                        {\"coloraxis\": {\"colorbar\": {\"title\": {\"text\": \"DataIntegrity\"}}, \"colorscale\": [[0.0, \"#0d0887\"], [0.1111111111111111, \"#46039f\"], [0.2222222222222222, \"#7201a8\"], [0.3333333333333333, \"#9c179e\"], [0.4444444444444444, \"#bd3786\"], [0.5555555555555556, \"#d8576b\"], [0.6666666666666666, \"#ed7953\"], [0.7777777777777778, \"#fb9f3a\"], [0.8888888888888888, \"#fdca26\"], [1.0, \"#f0f921\"]]}, \"legend\": {\"itemsizing\": \"constant\", \"tracegroupgap\": 0}, \"margin\": {\"t\": 60}, \"scene\": {\"domain\": {\"x\": [0.0, 1.0], \"y\": [0.0, 1.0]}, \"xaxis\": {\"title\": {\"text\": \"Domain\"}}, \"yaxis\": {\"title\": {\"text\": \"Year\"}}, \"zaxis\": {\"title\": {\"text\": \"TechnologyAdvancement\"}}}, \"template\": {\"data\": {\"bar\": [{\"error_x\": {\"color\": \"#2a3f5f\"}, \"error_y\": {\"color\": \"#2a3f5f\"}, \"marker\": {\"line\": {\"color\": \"#E5ECF6\", \"width\": 0.5}}, \"type\": \"bar\"}], \"barpolar\": [{\"marker\": {\"line\": {\"color\": \"#E5ECF6\", \"width\": 0.5}}, \"type\": \"barpolar\"}], \"carpet\": [{\"aaxis\": {\"endlinecolor\": \"#2a3f5f\", \"gridcolor\": \"white\", \"linecolor\": \"white\", \"minorgridcolor\": \"white\", \"startlinecolor\": \"#2a3f5f\"}, \"baxis\": {\"endlinecolor\": \"#2a3f5f\", \"gridcolor\": \"white\", \"linecolor\": \"white\", \"minorgridcolor\": \"white\", \"startlinecolor\": \"#2a3f5f\"}, \"type\": \"carpet\"}], \"choropleth\": [{\"colorbar\": {\"outlinewidth\": 0, \"ticks\": \"\"}, \"type\": \"choropleth\"}], \"contour\": [{\"colorbar\": {\"outlinewidth\": 0, \"ticks\": \"\"}, \"colorscale\": [[0.0, \"#0d0887\"], [0.1111111111111111, \"#46039f\"], [0.2222222222222222, \"#7201a8\"], [0.3333333333333333, \"#9c179e\"], [0.4444444444444444, \"#bd3786\"], [0.5555555555555556, \"#d8576b\"], [0.6666666666666666, \"#ed7953\"], [0.7777777777777778, \"#fb9f3a\"], [0.8888888888888888, \"#fdca26\"], [1.0, \"#f0f921\"]], \"type\": \"contour\"}], \"contourcarpet\": [{\"colorbar\": {\"outlinewidth\": 0, \"ticks\": \"\"}, \"type\": \"contourcarpet\"}], \"heatmap\": [{\"colorbar\": {\"outlinewidth\": 0, \"ticks\": \"\"}, \"colorscale\": [[0.0, \"#0d0887\"], [0.1111111111111111, \"#46039f\"], [0.2222222222222222, \"#7201a8\"], [0.3333333333333333, \"#9c179e\"], [0.4444444444444444, \"#bd3786\"], [0.5555555555555556, \"#d8576b\"], [0.6666666666666666, \"#ed7953\"], [0.7777777777777778, \"#fb9f3a\"], [0.8888888888888888, \"#fdca26\"], [1.0, \"#f0f921\"]], \"type\": \"heatmap\"}], \"heatmapgl\": [{\"colorbar\": {\"outlinewidth\": 0, \"ticks\": \"\"}, \"colorscale\": [[0.0, \"#0d0887\"], [0.1111111111111111, \"#46039f\"], [0.2222222222222222, \"#7201a8\"], [0.3333333333333333, \"#9c179e\"], [0.4444444444444444, \"#bd3786\"], [0.5555555555555556, \"#d8576b\"], [0.6666666666666666, \"#ed7953\"], [0.7777777777777778, \"#fb9f3a\"], [0.8888888888888888, \"#fdca26\"], [1.0, \"#f0f921\"]], \"type\": \"heatmapgl\"}], \"histogram\": [{\"marker\": {\"colorbar\": {\"outlinewidth\": 0, \"ticks\": \"\"}}, \"type\": \"histogram\"}], \"histogram2d\": [{\"colorbar\": {\"outlinewidth\": 0, \"ticks\": \"\"}, \"colorscale\": [[0.0, \"#0d0887\"], [0.1111111111111111, \"#46039f\"], [0.2222222222222222, \"#7201a8\"], [0.3333333333333333, \"#9c179e\"], [0.4444444444444444, \"#bd3786\"], [0.5555555555555556, \"#d8576b\"], [0.6666666666666666, \"#ed7953\"], [0.7777777777777778, \"#fb9f3a\"], [0.8888888888888888, \"#fdca26\"], [1.0, \"#f0f921\"]], \"type\": \"histogram2d\"}], \"histogram2dcontour\": [{\"colorbar\": {\"outlinewidth\": 0, \"ticks\": \"\"}, \"colorscale\": [[0.0, \"#0d0887\"], [0.1111111111111111, \"#46039f\"], [0.2222222222222222, \"#7201a8\"], [0.3333333333333333, \"#9c179e\"], [0.4444444444444444, \"#bd3786\"], [0.5555555555555556, \"#d8576b\"], [0.6666666666666666, \"#ed7953\"], [0.7777777777777778, \"#fb9f3a\"], [0.8888888888888888, \"#fdca26\"], [1.0, \"#f0f921\"]], \"type\": \"histogram2dcontour\"}], \"mesh3d\": [{\"colorbar\": {\"outlinewidth\": 0, \"ticks\": \"\"}, \"type\": \"mesh3d\"}], \"parcoords\": [{\"line\": {\"colorbar\": {\"outlinewidth\": 0, \"ticks\": \"\"}}, \"type\": \"parcoords\"}], \"pie\": [{\"automargin\": true, \"type\": \"pie\"}], \"scatter\": [{\"marker\": {\"colorbar\": {\"outlinewidth\": 0, \"ticks\": \"\"}}, \"type\": \"scatter\"}], \"scatter3d\": [{\"line\": {\"colorbar\": {\"outlinewidth\": 0, \"ticks\": \"\"}}, \"marker\": {\"colorbar\": {\"outlinewidth\": 0, \"ticks\": \"\"}}, \"type\": \"scatter3d\"}], \"scattercarpet\": [{\"marker\": {\"colorbar\": {\"outlinewidth\": 0, \"ticks\": \"\"}}, \"type\": \"scattercarpet\"}], \"scattergeo\": [{\"marker\": {\"colorbar\": {\"outlinewidth\": 0, \"ticks\": \"\"}}, \"type\": \"scattergeo\"}], \"scattergl\": [{\"marker\": {\"colorbar\": {\"outlinewidth\": 0, \"ticks\": \"\"}}, \"type\": \"scattergl\"}], \"scattermapbox\": [{\"marker\": {\"colorbar\": {\"outlinewidth\": 0, \"ticks\": \"\"}}, \"type\": \"scattermapbox\"}], \"scatterpolar\": [{\"marker\": {\"colorbar\": {\"outlinewidth\": 0, \"ticks\": \"\"}}, \"type\": \"scatterpolar\"}], \"scatterpolargl\": [{\"marker\": {\"colorbar\": {\"outlinewidth\": 0, \"ticks\": \"\"}}, \"type\": \"scatterpolargl\"}], \"scatterternary\": [{\"marker\": {\"colorbar\": {\"outlinewidth\": 0, \"ticks\": \"\"}}, \"type\": \"scatterternary\"}], \"surface\": [{\"colorbar\": {\"outlinewidth\": 0, \"ticks\": \"\"}, \"colorscale\": [[0.0, \"#0d0887\"], [0.1111111111111111, \"#46039f\"], [0.2222222222222222, \"#7201a8\"], [0.3333333333333333, \"#9c179e\"], [0.4444444444444444, \"#bd3786\"], [0.5555555555555556, \"#d8576b\"], [0.6666666666666666, \"#ed7953\"], [0.7777777777777778, \"#fb9f3a\"], [0.8888888888888888, \"#fdca26\"], [1.0, \"#f0f921\"]], \"type\": \"surface\"}], \"table\": [{\"cells\": {\"fill\": {\"color\": \"#EBF0F8\"}, \"line\": {\"color\": \"white\"}}, \"header\": {\"fill\": {\"color\": \"#C8D4E3\"}, \"line\": {\"color\": \"white\"}}, \"type\": \"table\"}]}, \"layout\": {\"annotationdefaults\": {\"arrowcolor\": \"#2a3f5f\", \"arrowhead\": 0, \"arrowwidth\": 1}, \"coloraxis\": {\"colorbar\": {\"outlinewidth\": 0, \"ticks\": \"\"}}, \"colorscale\": {\"diverging\": [[0, \"#8e0152\"], [0.1, \"#c51b7d\"], [0.2, \"#de77ae\"], [0.3, \"#f1b6da\"], [0.4, \"#fde0ef\"], [0.5, \"#f7f7f7\"], [0.6, \"#e6f5d0\"], [0.7, \"#b8e186\"], [0.8, \"#7fbc41\"], [0.9, \"#4d9221\"], [1, \"#276419\"]], \"sequential\": [[0.0, \"#0d0887\"], [0.1111111111111111, \"#46039f\"], [0.2222222222222222, \"#7201a8\"], [0.3333333333333333, \"#9c179e\"], [0.4444444444444444, \"#bd3786\"], [0.5555555555555556, \"#d8576b\"], [0.6666666666666666, \"#ed7953\"], [0.7777777777777778, \"#fb9f3a\"], [0.8888888888888888, \"#fdca26\"], [1.0, \"#f0f921\"]], \"sequentialminus\": [[0.0, \"#0d0887\"], [0.1111111111111111, \"#46039f\"], [0.2222222222222222, \"#7201a8\"], [0.3333333333333333, \"#9c179e\"], [0.4444444444444444, \"#bd3786\"], [0.5555555555555556, \"#d8576b\"], [0.6666666666666666, \"#ed7953\"], [0.7777777777777778, \"#fb9f3a\"], [0.8888888888888888, \"#fdca26\"], [1.0, \"#f0f921\"]]}, \"colorway\": [\"#636efa\", \"#EF553B\", \"#00cc96\", \"#ab63fa\", \"#FFA15A\", \"#19d3f3\", \"#FF6692\", \"#B6E880\", \"#FF97FF\", \"#FECB52\"], \"font\": {\"color\": \"#2a3f5f\"}, \"geo\": {\"bgcolor\": \"white\", \"lakecolor\": \"white\", \"landcolor\": \"#E5ECF6\", \"showlakes\": true, \"showland\": true, \"subunitcolor\": \"white\"}, \"hoverlabel\": {\"align\": \"left\"}, \"hovermode\": \"closest\", \"mapbox\": {\"style\": \"light\"}, \"paper_bgcolor\": \"white\", \"plot_bgcolor\": \"#E5ECF6\", \"polar\": {\"angularaxis\": {\"gridcolor\": \"white\", \"linecolor\": \"white\", \"ticks\": \"\"}, \"bgcolor\": \"#E5ECF6\", \"radialaxis\": {\"gridcolor\": \"white\", \"linecolor\": \"white\", \"ticks\": \"\"}}, \"scene\": {\"xaxis\": {\"backgroundcolor\": \"#E5ECF6\", \"gridcolor\": \"white\", \"gridwidth\": 2, \"linecolor\": \"white\", \"showbackground\": true, \"ticks\": \"\", \"zerolinecolor\": \"white\"}, \"yaxis\": {\"backgroundcolor\": \"#E5ECF6\", \"gridcolor\": \"white\", \"gridwidth\": 2, \"linecolor\": \"white\", \"showbackground\": true, \"ticks\": \"\", \"zerolinecolor\": \"white\"}, \"zaxis\": {\"backgroundcolor\": \"#E5ECF6\", \"gridcolor\": \"white\", \"gridwidth\": 2, \"linecolor\": \"white\", \"showbackground\": true, \"ticks\": \"\", \"zerolinecolor\": \"white\"}}, \"shapedefaults\": {\"line\": {\"color\": \"#2a3f5f\"}}, \"ternary\": {\"aaxis\": {\"gridcolor\": \"white\", \"linecolor\": \"white\", \"ticks\": \"\"}, \"baxis\": {\"gridcolor\": \"white\", \"linecolor\": \"white\", \"ticks\": \"\"}, \"bgcolor\": \"#E5ECF6\", \"caxis\": {\"gridcolor\": \"white\", \"linecolor\": \"white\", \"ticks\": \"\"}}, \"title\": {\"x\": 0.05}, \"xaxis\": {\"automargin\": true, \"gridcolor\": \"white\", \"linecolor\": \"white\", \"ticks\": \"\", \"title\": {\"standoff\": 15}, \"zerolinecolor\": \"white\", \"zerolinewidth\": 2}, \"yaxis\": {\"automargin\": true, \"gridcolor\": \"white\", \"linecolor\": \"white\", \"ticks\": \"\", \"title\": {\"standoff\": 15}, \"zerolinecolor\": \"white\", \"zerolinewidth\": 2}}}, \"title\": {\"text\": \"5 Features Representation\"}},\n",
              "                        {\"responsive\": true}\n",
              "                    ).then(function(){\n",
              "                            \n",
              "var gd = document.getElementById('d2b2ebd6-6937-444d-8c11-0a70238f9370');\n",
              "var x = new MutationObserver(function (mutations, observer) {{\n",
              "        var display = window.getComputedStyle(gd).display;\n",
              "        if (!display || display === 'none') {{\n",
              "            console.log([gd, 'removed!']);\n",
              "            Plotly.purge(gd);\n",
              "            observer.disconnect();\n",
              "        }}\n",
              "}});\n",
              "\n",
              "// Listen for the removal of the full notebook cells\n",
              "var notebookContainer = gd.closest('#notebook-container');\n",
              "if (notebookContainer) {{\n",
              "    x.observe(notebookContainer, {childList: true});\n",
              "}}\n",
              "\n",
              "// Listen for the clearing of the current output cell\n",
              "var outputEl = gd.closest('.output');\n",
              "if (outputEl) {{\n",
              "    x.observe(outputEl, {childList: true});\n",
              "}}\n",
              "\n",
              "                        })\n",
              "                };\n",
              "                \n",
              "            </script>\n",
              "        </div>\n",
              "</body>\n",
              "</html>"
            ]
          },
          "metadata": {
            "tags": []
          }
        }
      ]
    },
    {
      "cell_type": "code",
      "metadata": {
        "colab": {
          "base_uri": "https://localhost:8080/"
        },
        "id": "feeh2TkhSU2x",
        "outputId": "d6c2fb9e-8095-44ea-a358-793b2b692024"
      },
      "source": [
        "df.keys()"
      ],
      "execution_count": null,
      "outputs": [
        {
          "output_type": "execute_result",
          "data": {
            "text/plain": [
              "Index(['CompaniesName', 'Domain', 'Year', 'DataIntegrity', 'DataDisparity',\n",
              "       'ImprovedStandardisation', 'ImprovingUtilisationAndITInfrastructure',\n",
              "       'ImprovedSecurity', 'ImprovedBusinessIntelligence',\n",
              "       'ImprovedFlexibility', 'TechnologyAdvancement',\n",
              "       'ProvidingDevelopmentAndTestingEnvironment',\n",
              "       'HeavyProcessingWorkloadsAndPerformance', 'ITConsolidation',\n",
              "       'RegularSoftwareUpdatesAndHardwareManitianence', 'ITRealtedCostBenefit',\n",
              "       'RemovingOldLegacySytems', 'ImprovedDataRecoveryAndBackup'],\n",
              "      dtype='object')"
            ]
          },
          "metadata": {
            "tags": []
          },
          "execution_count": 23
        }
      ]
    },
    {
      "cell_type": "code",
      "metadata": {
        "colab": {
          "base_uri": "https://localhost:8080/",
          "height": 542
        },
        "id": "s8ebHioxTiJc",
        "outputId": "4e327c86-c4c2-4a05-b159-39b9917101b6"
      },
      "source": [
        "fig1 = px.scatter(df, x=\"Domain\", y=\"Year\", color=\"ImprovedStandardisation\")\n",
        "fig1.update_layout(title=\"Consolidation Years and ImprovedSecurity\")\n",
        "fig1.show()"
      ],
      "execution_count": null,
      "outputs": [
        {
          "output_type": "display_data",
          "data": {
            "text/html": [
              "<html>\n",
              "<head><meta charset=\"utf-8\" /></head>\n",
              "<body>\n",
              "    <div>\n",
              "            <script src=\"https://cdnjs.cloudflare.com/ajax/libs/mathjax/2.7.5/MathJax.js?config=TeX-AMS-MML_SVG\"></script><script type=\"text/javascript\">if (window.MathJax) {MathJax.Hub.Config({SVG: {font: \"STIX-Web\"}});}</script>\n",
              "                <script type=\"text/javascript\">window.PlotlyConfig = {MathJaxConfig: 'local'};</script>\n",
              "        <script src=\"https://cdn.plot.ly/plotly-latest.min.js\"></script>    \n",
              "            <div id=\"9cea5a08-8857-4a01-bef5-0a5961c78865\" class=\"plotly-graph-div\" style=\"height:525px; width:100%;\"></div>\n",
              "            <script type=\"text/javascript\">\n",
              "                \n",
              "                    window.PLOTLYENV=window.PLOTLYENV || {};\n",
              "                    \n",
              "                if (document.getElementById(\"9cea5a08-8857-4a01-bef5-0a5961c78865\")) {\n",
              "                    Plotly.newPlot(\n",
              "                        '9cea5a08-8857-4a01-bef5-0a5961c78865',\n",
              "                        [{\"hoverlabel\": {\"namelength\": 0}, \"hovertemplate\": \"Domain=%{x}<br>Year=%{y}<br>ImprovedStandardisation=%{marker.color}\", \"legendgroup\": \"\", \"marker\": {\"color\": [1, 0, 1, 1, 0, 1, 1, 1, 1, 0, 0, 0, 1, 1, 1, 0, 1, 1, 0, 0, 1, 0, 1, 1, 0, 1, 1, 1, 0, 0, 1, 1, 1, 1, 1, 0, 0, 1, 0, 1, 1, 1, 0, 1, 1, 1, 0, 1, 0, 1, 0, 0, 0, 1, 0, 1, 0, 1, 0, 1, 0, 0, 0, 0, 1, 0, 1, 0, 0, 0, 1, 1, 1, 1, 1, 1], \"coloraxis\": \"coloraxis\", \"symbol\": \"circle\"}, \"mode\": \"markers\", \"name\": \"\", \"showlegend\": false, \"type\": \"scatter\", \"x\": [\"Telecomm Industry \", \"Government\", \"BFSI\", \"Telecomm Industry \", \"Steel Industry\", \"E Commerce\", \"Automobile\", \"Pharmaceuticals\", \"E Commerce\", \"FMCG\", \"Steel Industry\", \"FMCG\", \"Tech0logy\", \"Tech0logy\", \"Tech0logy\", \"Tech0logy\", \"Pharmaceuticals\", \"Tech0logy\", \"Tech0logy\", \"Tech0logy\", \"Telecomm Industry \", \"BFSI\", \"Government\", \"Logistics\", \"BFSI\", \"BFSI\", \"Healthcare\", \"Healthcare\", \"Healthcare\", \"Healthcare\", \"Automobile\", \"Telecomm Industry \", \"Resource Industry\", \"Government\", \"Discrete Manufacturing\", \"Logistic and Transportation\", \"Logistic and Transportation\", \"Logistic and Transportation\", \"Logistic and Transportation\", \"Logistic and Transportation\", \"Logistic and Transportation\", \"Resource Industry\", \"Resource Industry\", \"Resource Industry\", \"Resource Industry\", \"Resource Industry\", \"Resource Industry\", \"Retail\", \"Retail\", \"Professional Services\", \"Professional Services\", \"Professional Services\", \"Professional Services\", \"Professional Services\", \"Professional Services\", \"Professional Services\", \"Professional Services\", \"Professional Services\", \"Professional Services\", \"Wholesale\", \"Wholesale\", \"Wholesale\", \"Wholesale\", \"Wholesale\", \"Wholesale\", \"Wholesale\", \"Banking\", \"Banking\", \"Banking\", \"Government\", \"Government\", \"Government\", \"Construction\", \"Construction\", \"Construction\", \"Construction\"], \"xaxis\": \"x\", \"y\": [2020, 2019, 2019, 2018, 2018, 2017, 2008, 2014, 2017, 2018, 2018, 2015, 2020, 2016, 2018, 2006, 2018, 2019, 2018, 2017, 2018, 2016, 2015, 2012, 2015, 2019, 2019, 2020, 2017, 2012, 2014, 2009, 2009, 2008, 2003, 2015, 2015, 2015, 2011, 2008, 2012, 2018, 2012, 2021, 2010, 2019, 2014, 2006, 2018, 2010, 2015, 2006, 2011, 2006, 2017, 2013, 2000, 2011, 2006, 2015, 2014, 2015, 2014, 2012, 2007, 2020, 2019, 2007, 2021, 2008, 2019, 2013, 2010, 2012, 2013, 2014], \"yaxis\": \"y\"}],\n",
              "                        {\"coloraxis\": {\"colorbar\": {\"title\": {\"text\": \"ImprovedStandardisation\"}}, \"colorscale\": [[0.0, \"#440154\"], [0.1111111111111111, \"#482878\"], [0.2222222222222222, \"#3e4989\"], [0.3333333333333333, \"#31688e\"], [0.4444444444444444, \"#26828e\"], [0.5555555555555556, \"#1f9e89\"], [0.6666666666666666, \"#35b779\"], [0.7777777777777778, \"#6ece58\"], [0.8888888888888888, \"#b5de2b\"], [1.0, \"#fde725\"]]}, \"legend\": {\"tracegroupgap\": 0}, \"margin\": {\"t\": 60}, \"template\": {\"data\": {\"pie\": [{\"automargin\": true, \"type\": \"pie\"}], \"scatter\": [{\"line\": {\"width\": 3}, \"marker\": {\"size\": 9}, \"type\": \"scatter\"}], \"scatter3d\": [{\"line\": {\"width\": 3}, \"marker\": {\"size\": 9}, \"type\": \"scatter3d\"}], \"scattergeo\": [{\"line\": {\"width\": 3}, \"marker\": {\"size\": 9}, \"type\": \"scattergeo\"}], \"scattergl\": [{\"line\": {\"width\": 3}, \"marker\": {\"size\": 9}, \"type\": \"scattergl\"}], \"scatterpolar\": [{\"line\": {\"width\": 3}, \"marker\": {\"size\": 9}, \"type\": \"scatterpolar\"}], \"scatterpolargl\": [{\"line\": {\"width\": 3}, \"marker\": {\"size\": 9}, \"type\": \"scatterpolargl\"}], \"scatterternary\": [{\"line\": {\"width\": 3}, \"marker\": {\"size\": 9}, \"type\": \"scatterternary\"}], \"table\": [{\"cells\": {\"height\": 30}, \"header\": {\"height\": 36}, \"type\": \"table\"}]}, \"layout\": {\"font\": {\"size\": 18}, \"xaxis\": {\"title\": {\"standoff\": 15}}, \"yaxis\": {\"title\": {\"standoff\": 15}}}}, \"title\": {\"text\": \"Consolidation Years and ImprovedSecurity\"}, \"xaxis\": {\"anchor\": \"y\", \"domain\": [0.0, 1.0], \"title\": {\"text\": \"Domain\"}}, \"yaxis\": {\"anchor\": \"x\", \"domain\": [0.0, 1.0], \"title\": {\"text\": \"Year\"}}},\n",
              "                        {\"responsive\": true}\n",
              "                    ).then(function(){\n",
              "                            \n",
              "var gd = document.getElementById('9cea5a08-8857-4a01-bef5-0a5961c78865');\n",
              "var x = new MutationObserver(function (mutations, observer) {{\n",
              "        var display = window.getComputedStyle(gd).display;\n",
              "        if (!display || display === 'none') {{\n",
              "            console.log([gd, 'removed!']);\n",
              "            Plotly.purge(gd);\n",
              "            observer.disconnect();\n",
              "        }}\n",
              "}});\n",
              "\n",
              "// Listen for the removal of the full notebook cells\n",
              "var notebookContainer = gd.closest('#notebook-container');\n",
              "if (notebookContainer) {{\n",
              "    x.observe(notebookContainer, {childList: true});\n",
              "}}\n",
              "\n",
              "// Listen for the clearing of the current output cell\n",
              "var outputEl = gd.closest('.output');\n",
              "if (outputEl) {{\n",
              "    x.observe(outputEl, {childList: true});\n",
              "}}\n",
              "\n",
              "                        })\n",
              "                };\n",
              "                \n",
              "            </script>\n",
              "        </div>\n",
              "</body>\n",
              "</html>"
            ]
          },
          "metadata": {
            "tags": []
          }
        }
      ]
    },
    {
      "cell_type": "code",
      "metadata": {
        "id": "TndqSanjTmx4"
      },
      "source": [
        ""
      ],
      "execution_count": null,
      "outputs": []
    }
  ]
}